{
 "cells": [
  {
   "cell_type": "markdown",
   "id": "directed-bride",
   "metadata": {},
   "source": [
    "## QRcode scanner\n",
    "QR Code, in full Quick Response Code, a type of bar code that consists of a printed\n",
    "square pattern of small black and white squares that encode data which can be scanned into\n",
    "a computer system. The black and white squares can represent numbers from 0 to 9, letters\n",
    "from A to Z, or characters in non-Latin scripts such as Japanese kanji.\n",
    "#### Packages needed :\n",
    "Zbar and cv2\n",
    "\n",
    "##### ZBar Bar Code Reader is an open source software suite for reading bar codes from various sources, such as video streams, image files and raw intensity sensors. It supports EAN-13/UPC-A, UPC-E, EAN-8, Code 128, Code 39, Interleaved 2 of 5 and QR Code. These are the Python bindings for the library. The ZBar package contains pyzbar for encoding and decoding\n",
    "\n",
    "##### cv2"
   ]
  },
  {
   "cell_type": "code",
   "execution_count": 1,
   "id": "aggressive-strap",
   "metadata": {},
   "outputs": [],
   "source": [
    "# import the necessary packages\n",
    "from pyzbar import pyzbar\n",
    "import cv2\n"
   ]
  },
  {
   "cell_type": "code",
   "execution_count": null,
   "id": "egyptian-database",
   "metadata": {},
   "outputs": [
    {
     "name": "stdout",
     "output_type": "stream",
     "text": [
      "[INFO] Found QRCODE barcode: Department of Computer Science And Informatics\n",
      "                                        Computer Vision\n",
      "                                            Group Two\n",
      "\n",
      "\n"
     ]
    }
   ],
   "source": [
    "# load the input image\n",
    "image = cv2.imread('./qr_code.png')\n",
    "# find the barcodes in the image and decode each of the barcodes\n",
    "barcodes = pyzbar.decode(image)\n",
    "# loop over the detected barcodes\n",
    "for barcode in barcodes:\n",
    "\t# extract the bounding box location of the barcode and draw the\n",
    "\t# bounding box surrounding the barcode on the image\n",
    "\t(x, y, w, h) = barcode.rect\n",
    "\tcv2.rectangle(image, (x, y), (x + w, y + h), (0, 0, 255), 2)\n",
    "\t# the barcode data is a bytes object so if we want to draw it on\n",
    "\t# our output image we need to convert it to a string first\n",
    "\tbarcodeData = barcode.data.decode(\"utf-8\")\n",
    "\tbarcodeType = barcode.type\n",
    "\t# draw the barcode data and barcode type on the image\n",
    "\ttext = \"{} ({})\".format(barcodeData, barcodeType)\n",
    "\tcv2.putText(image, text, (x, y - 10), cv2.FONT_HERSHEY_SIMPLEX,\n",
    "\t\t0.5, (0, 0, 255), 2)\n",
    "\t# print the barcode type and data to the terminal\n",
    "\tprint(\"[INFO] Found {} barcode: {}\".format(barcodeType, barcodeData))\n",
    "# show the output image\n",
    "cv2.imshow(\"QR code\", image)\n",
    "cv2.waitKey(0)"
   ]
  },
  {
   "cell_type": "code",
   "execution_count": null,
   "id": "returning-married",
   "metadata": {},
   "outputs": [],
   "source": []
  }
 ],
 "metadata": {
  "kernelspec": {
   "display_name": "Python 3",
   "language": "python",
   "name": "python3"
  },
  "language_info": {
   "codemirror_mode": {
    "name": "ipython",
    "version": 3
   },
   "file_extension": ".py",
   "mimetype": "text/x-python",
   "name": "python",
   "nbconvert_exporter": "python",
   "pygments_lexer": "ipython3",
   "version": "3.6.13"
  }
 },
 "nbformat": 4,
 "nbformat_minor": 5
}
